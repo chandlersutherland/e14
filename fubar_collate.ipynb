{
 "cells": [
  {
   "cell_type": "code",
   "execution_count": 45,
   "id": "9919bedd",
   "metadata": {},
   "outputs": [],
   "source": [
    "import os \n",
    "import pandas as pd \n",
    "import numpy as np \n",
    "import glob\n",
    "import time"
   ]
  },
  {
   "cell_type": "code",
   "execution_count": 53,
   "id": "8904859c",
   "metadata": {},
   "outputs": [
    {
     "data": {
      "text/plain": [
       "'1566'"
      ]
     },
     "execution_count": 53,
     "metadata": {},
     "output_type": "execute_result"
    }
   ],
   "source": [
    "# file_path=fubar_logs[0]\n",
    "# with open(file_path, 'r') as file: \n",
    "#     file_contents=file.readlines()\n",
    "#     for row in file_contents:\n",
    "#         if row.find('Loaded a multiple') != -1:\n",
    "#             codons=row\n",
    "            \n",
    "codons.split(\"**\")[3]"
   ]
  },
  {
   "cell_type": "code",
   "execution_count": 62,
   "id": "f374341e",
   "metadata": {},
   "outputs": [],
   "source": [
    "#first, a function that determines line number bounds of the hyphy fubar results \n",
    "\n",
    "def number_hunter(file_path):\n",
    "    with open(file_path, 'r') as file: \n",
    "        file_contents=file.readlines()\n",
    "        for row in file_contents: \n",
    "            if row.find('Empty File') != -1:\n",
    "                print('Error, empty file. Probably no tree file.')\n",
    "                start=np.nan\n",
    "                end=np.nan\n",
    "                codon_len=np.nan\n",
    "            word='Tabulating'\n",
    "            if row.find(word) != -1:\n",
    "                start=file_contents.index(row)\n",
    "            if row.find('## FUBAR inferred') != -1:\n",
    "                end=file_contents.index(row)\n",
    "            if row.find('Loaded a multiple') != -1:\n",
    "                codon_len=row.split(\"**\")[3]\n",
    "            \n",
    "    return(start, end, codon_len)\n",
    "\n",
    "index=number_hunter(fubar_out)\n",
    "\n",
    "#then a function that converts log file to df, saves as csv in case I want it later, then returns a positions df \n",
    "\n",
    "def file_convert(start, end, codon_len, file_path):\n",
    "    positions=pd.DataFrame()\n",
    "    clade=file_path.split('/')[-2]\n",
    "    if np.isnan(start) == True:\n",
    "        positions=positions #return a blank df if no tree file \n",
    "    else: \n",
    "        with open(file_path, 'r') as file: \n",
    "            file_contents=file.readlines()\n",
    "            for l_no, line in enumerate(file_contents[start+3:end-1]): #remove column names, and trailing data \n",
    "                codon=line.split('|')[1].strip('      ')\n",
    "                partition=line.split('|')[2].strip('      ')\n",
    "                alpha=line.split('|')[3].strip('      ')\n",
    "                beta=line.split('|')[4].strip('      ')\n",
    "                posterior_prob=line.split('|')[5].strip('      ').strip('Pos. posterior = ')\n",
    "                row_res={'clade':clade, 'codon_len':int(codon_len), 'codon':int(codon), 'parititon':int(partition), 'alpha':float(alpha), 'beta':float(beta), 'posterior_prob':float(posterior_prob)}\n",
    "                positions=positions.append(row_res, ignore_index=True)\n",
    "\n",
    "    output_csv=file_path.strip('hyphy_fubar.log')+'hyphy_fubar_pos.csv'\n",
    "    positions.to_csv(output_csv)\n",
    "    return positions \n",
    "    \n",
    "positions=file_convert(index[0], index[1], index[2], fubar_out)"
   ]
  },
  {
   "cell_type": "code",
   "execution_count": 46,
   "id": "5b4bff5d",
   "metadata": {},
   "outputs": [
    {
     "data": {
      "text/plain": [
       "212"
      ]
     },
     "execution_count": 46,
     "metadata": {},
     "output_type": "execute_result"
    }
   ],
   "source": [
    "#gather all fubar results files \n",
    "fubar_logs=glob.glob(os.path.join('/global/scratch/users/chandlersutherland/e14/popgen/clades/*/hyphy_fubar.log'))\n",
    "len(fubar_logs)"
   ]
  },
  {
   "cell_type": "code",
   "execution_count": 63,
   "id": "1116b64c",
   "metadata": {},
   "outputs": [],
   "source": [
    "num_clades=len(fubar_logs)\n",
    "def wrapper(i):\n",
    "    file_path=fubar_logs[i]\n",
    "    index=number_hunter(file_path)\n",
    "    positions=file_convert(index[0], index[1], index[2], file_path)\n",
    "    return positions "
   ]
  },
  {
   "cell_type": "code",
   "execution_count": 64,
   "id": "1e81c521",
   "metadata": {},
   "outputs": [
    {
     "name": "stdout",
     "output_type": "stream",
     "text": [
      "Error, empty file. Probably no tree file.\n",
      "Error, empty file. Probably no tree file.\n",
      "Error, empty file. Probably no tree file.\n",
      "Error, empty file. Probably no tree file.\n",
      "Error, empty file. Probably no tree file.\n",
      "Error, empty file. Probably no tree file.\n",
      "Error, empty file. Probably no tree file.\n",
      "Error, empty file. Probably no tree file.\n",
      "Error, empty file. Probably no tree file.\n",
      "Error, empty file. Probably no tree file.\n",
      "Error, empty file. Probably no tree file.\n",
      "Error, empty file. Probably no tree file.\n",
      "Error, empty file. Probably no tree file.\n",
      "Error, empty file. Probably no tree file.\n",
      "Error, empty file. Probably no tree file.\n",
      "Error, empty file. Probably no tree file.\n",
      "Error, empty file. Probably no tree file.\n",
      "Error, empty file. Probably no tree file.\n"
     ]
    }
   ],
   "source": [
    "results=pd.DataFrame()\n",
    "for i in range(0,len(fubar_logs)):\n",
    "    res=wrapper(i)\n",
    "    results=results.append(res)"
   ]
  },
  {
   "cell_type": "code",
   "execution_count": 66,
   "id": "917f17ea",
   "metadata": {},
   "outputs": [],
   "source": [
    "#get number of sites with posterior prob > 90, 95, and 99 by clade \n",
    "fubar_95 = results.groupby(['clade', 'codon_len'])['posterior_prob'].apply(lambda x:(x>0.95).sum()).reset_index().rename(columns={'posterior_prob':'fubar_count_95'})\n",
    "fubar_90 = results.groupby('clade')['posterior_prob'].apply(lambda x:(x>0.90).sum()).reset_index().rename(columns={'posterior_prob':'fubar_count_90'})\n",
    "fubar_99 = results.groupby('clade')['posterior_prob'].apply(lambda x:(x>0.99).sum()).reset_index().rename(columns={'posterior_prob':'fubar_count_99'})\n",
    "\n",
    "fubar_pos_counts=pd.merge(pd.merge(fubar_95, fubar_90, on='clade'), fubar_99, on='clade')\n",
    "#fubar_pos_counts\n",
    "fubar_pos_counts.to_csv('/global/scratch/users/chandlersutherland/e14/popgen/fubar_sites.csv')"
   ]
  }
 ],
 "metadata": {
  "kernelspec": {
   "display_name": "Python 3 (ipykernel)",
   "language": "python",
   "name": "python3"
  },
  "language_info": {
   "codemirror_mode": {
    "name": "ipython",
    "version": 3
   },
   "file_extension": ".py",
   "mimetype": "text/x-python",
   "name": "python",
   "nbconvert_exporter": "python",
   "pygments_lexer": "ipython3",
   "version": "3.9.12"
  }
 },
 "nbformat": 4,
 "nbformat_minor": 5
}
