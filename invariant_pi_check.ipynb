{
 "cells": [
  {
   "cell_type": "code",
   "execution_count": 11,
   "id": "b90fca73",
   "metadata": {},
   "outputs": [],
   "source": [
    "import egglib\n",
    "import glob \n",
    "import pandas as pd\n",
    "import numpy as np\n",
    "import os\n",
    "import ipyparallel as ipp\n",
    "import matplotlib.pyplot as plt\n",
    "import time\n",
    "from scipy.stats import pearsonr"
   ]
  },
  {
   "cell_type": "code",
   "execution_count": 2,
   "id": "6b5909c8",
   "metadata": {},
   "outputs": [
    {
     "name": "stdout",
     "output_type": "stream",
     "text": [
      "3.1.0\n",
      "7.1.0\n"
     ]
    }
   ],
   "source": [
    "print(egglib.__version__)\n",
    "print(ipp.__version__)"
   ]
  },
  {
   "cell_type": "markdown",
   "id": "b015ac10",
   "metadata": {},
   "source": [
    "Re-run egglib whole genome pi on VCFs containing invariant sites as well, compare to previous calculations on just variant sites."
   ]
  },
  {
   "cell_type": "code",
   "execution_count": 3,
   "id": "8ab70296",
   "metadata": {},
   "outputs": [
    {
     "name": "stdout",
     "output_type": "stream",
     "text": [
      "['/global/scratch/users/chandlersutherland/e14/popgen/vcf_1001_full/nlrome_invar_1_cds.recode.vcf', '/global/scratch/users/chandlersutherland/e14/popgen/vcf_1001_full/nlrome_invar_2_cds.recode.vcf', '/global/scratch/users/chandlersutherland/e14/popgen/vcf_1001_full/nlrome_invar_3_cds.recode.vcf', '/global/scratch/users/chandlersutherland/e14/popgen/vcf_1001_full/nlrome_invar_4_cds.recode.vcf', '/global/scratch/users/chandlersutherland/e14/popgen/vcf_1001_full/nlrome_invar_5_cds.recode.vcf']\n"
     ]
    }
   ],
   "source": [
    "#save file names in chromosome order\n",
    "directory='/global/scratch/users/chandlersutherland/e14/popgen/vcf_1001_full/'\n",
    "files = glob.glob(os.path.join(directory, \"nlrome_invar_*_cds.recode.vcf\"))\n",
    "files.sort()\n",
    "print(files)"
   ]
  },
  {
   "cell_type": "code",
   "execution_count": 4,
   "id": "f445cef5",
   "metadata": {},
   "outputs": [
    {
     "name": "stderr",
     "output_type": "stream",
     "text": [
      "/global/software/sl-7.x86_64/modules/langs/python/3.7/lib/python3.7/site-packages/IPython/core/interactiveshell.py:3058: DtypeWarning: Columns (1) have mixed types. Specify dtype option on import or set low_memory=False.\n",
      "  interactivity=interactivity, compiler=compiler, result=result)\n"
     ]
    }
   ],
   "source": [
    "#load the CDS VCF file \n",
    "bed=pd.read_csv('/global/scratch/users/chandlersutherland/e14/popgen/vcf_1001_full/cds.bed', index_col=0)"
   ]
  },
  {
   "cell_type": "code",
   "execution_count": 16,
   "id": "3f957639",
   "metadata": {},
   "outputs": [],
   "source": [
    "#define a fucntion that takes the vcf path, creates a vcf object and an index, then returns the egglib vcf object \n",
    "def importer(vcf_path):\n",
    "    vcf=egglib.io.VcfParser(vcf_path)\n",
    "    egglib.io.make_vcf_index(vcf_path)\n",
    "    vcf.load_index(vcf_path+'i')\n",
    "    return vcf\n",
    "\n",
    "#vcf1=importer(files[0])\n",
    "#vcf2=importer(files[1])\n",
    "#vcf3=importer(files[2])\n",
    "#vcf4=importer(files[3])\n",
    "#vcf5=importer(files[4])"
   ]
  },
  {
   "cell_type": "code",
   "execution_count": 6,
   "id": "91b0821e",
   "metadata": {},
   "outputs": [],
   "source": [
    "#iterate through the file and see if egglib errors on any problematic lines\n",
    "#only have to do this once \n",
    "def parse_check(vcf, chrom):\n",
    "    vcf.goto(chrom, position=egglib.io.FIRST)\n",
    "    ln=0\n",
    "    for i in vcf:\n",
    "        ln += 1\n",
    "        try: \n",
    "            chrom, pos, nall=next(vcf)\n",
    "            #print(chrom, pos, nall)\n",
    "        except:\n",
    "            print('error line', ln)\n",
    "            print(chrom, pos)\n",
    "            #next(vcf)\n",
    "    return print('checked')\n",
    "\n",
    "#print(files[0])\n",
    "#parse_check(vcf1, '1')\n",
    "#print(files[1])\n",
    "#parse_check(vcf2, '2')\n",
    "#print(files[2])\n",
    "#parse_check(vcf3, '3')\n",
    "#print(files[3])\n",
    "#parse_check(vcf4, '4')\n",
    "#print(files[4])\n",
    "#parse_check(vcf5, '5')"
   ]
  },
  {
   "cell_type": "code",
   "execution_count": 7,
   "id": "7e135e02",
   "metadata": {},
   "outputs": [],
   "source": [
    "#function that takes chromosome, CDS start, and CDS end, then returns an array with the vcf sites in that zone\n",
    "def exon_search(bed_chrom, bed_start, bed_end, vcf):\n",
    "    array=[]\n",
    "    for i in vcf:\n",
    "        chrom, pos, nall = next(vcf)\n",
    "        if int(chrom) == bed_chrom:\n",
    "            if pos >= bed_start and pos <= bed_end:\n",
    "                site=vcf.get_genotypes()\n",
    "                array.append(site)\n",
    "            if pos > bed_end:\n",
    "                break\n",
    "    return array"
   ]
  },
  {
   "cell_type": "code",
   "execution_count": 8,
   "id": "c4abf64f",
   "metadata": {},
   "outputs": [],
   "source": [
    "#takes in CDS, harvests sites for each piece of the CDS, then calculate over it \n",
    "def combine_cds(one_gene, vcf):\n",
    "    cs = egglib.stats.ComputeStats()\n",
    "    cs.configure(multi_hits=True, multi=False)\n",
    "    cs.add_stats('Pi', 'lseff', 'D')\n",
    "\n",
    "    sites=[]\n",
    "    cds_length=0\n",
    "    for index, row in one_gene.iterrows():\n",
    "        bed_chrom=int(row['chrom'])\n",
    "        bed_start=int(row['bedStart'])\n",
    "        bed_end=int(row['bedEnd'])\n",
    "        cds_length += bed_end-bed_start\n",
    "        results=exon_search(bed_chrom, bed_start, bed_end, vcf)\n",
    "        sites.extend(results)\n",
    "\n",
    "    stats=cs.process_sites(sites)\n",
    "    \n",
    "    lseff=stats['lseff']\n",
    "    D=stats['D']\n",
    "    if pd.isnull(stats['D']):\n",
    "        D=np.nan\n",
    "    Pi=stats['Pi']\n",
    "        \n",
    "    gene=one_gene.iloc[0,3]\n",
    "    result={'gene':gene, 'Pi_raw':Pi, 'D':D, 'lseff':lseff, 'cds_length':cds_length}\n",
    "    return result"
   ]
  },
  {
   "cell_type": "code",
   "execution_count": 9,
   "id": "0eea74b9",
   "metadata": {},
   "outputs": [],
   "source": [
    "#takes in chromosome integer, performs calculations, and outputs \n",
    "def wrapper(i):\n",
    "    vcf=importer(files[i-1]) #import vcf file (convert to 0 integer indexing)\n",
    "    genes=bed[bed['chrom']==i]['name'].unique() #filter gene list \n",
    "    bed_g=bed.groupby(['name'])\n",
    "    stats=pd.DataFrame()\n",
    "    vcf.goto(str(i), position=egglib.io.FIRST)\n",
    "    for j in genes:\n",
    "       sub=bed_g.get_group(j)\n",
    "       result=combine_cds(sub, vcf)\n",
    "       stats=stats.append(result, ignore_index=True)\n",
    "    return stats"
   ]
  },
  {
   "cell_type": "markdown",
   "id": "c2773a52",
   "metadata": {},
   "source": [
    "This is going to take a long time, and since everything is split by chromosome let's try running in parallel."
   ]
  },
  {
   "cell_type": "code",
   "execution_count": 26,
   "id": "16e15ea0",
   "metadata": {},
   "outputs": [
    {
     "name": "stdout",
     "output_type": "stream",
     "text": [
      "Using existing profile dir: '/global/home/users/chandlersutherland/.ipython/profile_default'\n",
      "Starting 5 engines with <class 'ipyparallel.cluster.launcher.LocalEngineSetLauncher'>\n"
     ]
    },
    {
     "data": {
      "application/vnd.jupyter.widget-view+json": {
       "model_id": "91d8500f49d64b25af3a9bdeb4637dd6",
       "version_major": 2,
       "version_minor": 0
      },
      "text/plain": [
       "HBox(children=(IntProgress(value=0, max=5), HTML(value='')))"
      ]
     },
     "metadata": {},
     "output_type": "display_data"
    },
    {
     "name": "stdout",
     "output_type": "stream",
     "text": [
      "\n"
     ]
    },
    {
     "data": {
      "text/plain": [
       "[0, 1, 2, 3, 4]"
      ]
     },
     "execution_count": 26,
     "metadata": {},
     "output_type": "execute_result"
    }
   ],
   "source": [
    "#first create client to interact with cluster \n",
    "my_cluster=ipp.Cluster(n=5)\n",
    "c=my_cluster.start_and_connect_sync()\n",
    "c.ids\n"
   ]
  },
  {
   "cell_type": "code",
   "execution_count": 33,
   "id": "c3beca9f",
   "metadata": {},
   "outputs": [
    {
     "data": {
      "text/plain": [
       "['hello world', 'hello world', 'hello world', 'hello world']"
      ]
     },
     "execution_count": 33,
     "metadata": {},
     "output_type": "execute_result"
    }
   ],
   "source": [
    "#create direct view objects \n",
    "dview=c[:]\n",
    "dview.block=True"
   ]
  },
  {
   "cell_type": "code",
   "execution_count": 34,
   "id": "6e4a336a",
   "metadata": {},
   "outputs": [
    {
     "data": {
      "text/plain": [
       "<AsyncResult: execute:finished>"
      ]
     },
     "execution_count": 34,
     "metadata": {},
     "output_type": "execute_result"
    }
   ],
   "source": [
    "#load necessary packages in worker processes \n",
    "dview.execute('import pandas as pd')\n",
    "dview.execute('import egglib')\n",
    "dview.execute('import numpy as np')"
   ]
  },
  {
   "cell_type": "code",
   "execution_count": 36,
   "id": "4b831619",
   "metadata": {},
   "outputs": [
    {
     "ename": "CompositeError",
     "evalue": "one or more exceptions from call to method: parallel_toy\n[0:apply]: ValueError: cannot write to index file (stream error)",
     "output_type": "error",
     "traceback": [
      "[0:apply]: ",
      "\u001b[0;31m---------------------------------------------------------------------------\u001b[0m",
      "\u001b[0;31mValueError\u001b[0m                                Traceback (most recent call last)",
      "\u001b[0;32m<string>\u001b[0m in \u001b[0;36m<module>\u001b[0;34m\u001b[0m",
      "",
      "\u001b[0;32m/global/software/sl-7.x86_64/modules/langs/python/3.7/lib/python3.7/site-packages/ipyparallel/client/remotefunction.py\u001b[0m in \u001b[0;36m<lambda>\u001b[0;34m(f, *sequences)\u001b[0m",
      "\u001b[1;32m    148\u001b[0m \u001b[0;34m\u001b[0m\u001b[0m",
      "\u001b[1;32m    149\u001b[0m \u001b[0;32mif\u001b[0m \u001b[0msys\u001b[0m\u001b[0;34m.\u001b[0m\u001b[0mversion_info\u001b[0m\u001b[0;34m[\u001b[0m\u001b[0;36m0\u001b[0m\u001b[0;34m]\u001b[0m \u001b[0;34m>=\u001b[0m \u001b[0;36m3\u001b[0m\u001b[0;34m:\u001b[0m\u001b[0;34m\u001b[0m\u001b[0;34m\u001b[0m\u001b[0m",
      "\u001b[0;32m--> 150\u001b[0;31m     \u001b[0m_map\u001b[0m \u001b[0;34m=\u001b[0m \u001b[0;32mlambda\u001b[0m \u001b[0mf\u001b[0m\u001b[0;34m,\u001b[0m \u001b[0;34m*\u001b[0m\u001b[0msequences\u001b[0m\u001b[0;34m:\u001b[0m \u001b[0mlist\u001b[0m\u001b[0;34m(\u001b[0m\u001b[0mmap\u001b[0m\u001b[0;34m(\u001b[0m\u001b[0mf\u001b[0m\u001b[0;34m,\u001b[0m \u001b[0;34m*\u001b[0m\u001b[0msequences\u001b[0m\u001b[0;34m)\u001b[0m\u001b[0;34m)\u001b[0m\u001b[0;34m\u001b[0m\u001b[0;34m\u001b[0m\u001b[0m",
      "\u001b[0m\u001b[1;32m    151\u001b[0m \u001b[0;32melse\u001b[0m\u001b[0;34m:\u001b[0m\u001b[0;34m\u001b[0m\u001b[0;34m\u001b[0m\u001b[0m",
      "\u001b[1;32m    152\u001b[0m     \u001b[0m_map\u001b[0m \u001b[0;34m=\u001b[0m \u001b[0mmap\u001b[0m\u001b[0;34m\u001b[0m\u001b[0;34m\u001b[0m\u001b[0m",
      "",
      "\u001b[0;32m<ipython-input-36-a6f7e7c00259>\u001b[0m in \u001b[0;36mparallel_toy\u001b[0;34m(i)\u001b[0m",
      "",
      "\u001b[0;32m<ipython-input-16-3fc476e343e6>\u001b[0m in \u001b[0;36mimporter\u001b[0;34m(vcf_path)\u001b[0m",
      "",
      "\u001b[0;32m~/.local/lib/python3.7/site-packages/egglib/io/_vcf.py\u001b[0m in \u001b[0;36mmake_vcf_index\u001b[0;34m(fname, outname)\u001b[0m",
      "\u001b[1;32m    532\u001b[0m     \u001b[0;32mif\u001b[0m \u001b[0moutname\u001b[0m \u001b[0;32mis\u001b[0m \u001b[0;32mNone\u001b[0m\u001b[0;34m:\u001b[0m\u001b[0;34m\u001b[0m\u001b[0;34m\u001b[0m\u001b[0m",
      "\u001b[1;32m    533\u001b[0m         \u001b[0moutname\u001b[0m \u001b[0;34m=\u001b[0m \u001b[0mVcfParser\u001b[0m\u001b[0;34m.\u001b[0m\u001b[0m_mk_index_fname\u001b[0m\u001b[0;34m(\u001b[0m\u001b[0mfname\u001b[0m\u001b[0;34m)\u001b[0m\u001b[0;34m\u001b[0m\u001b[0;34m\u001b[0m\u001b[0m",
      "\u001b[0;32m--> 534\u001b[0;31m     \u001b[0m_eggwrapper\u001b[0m\u001b[0;34m.\u001b[0m\u001b[0mmake_vcf_index\u001b[0m\u001b[0;34m(\u001b[0m\u001b[0m_parser\u001b[0m\u001b[0;34m,\u001b[0m \u001b[0moutname\u001b[0m\u001b[0;34m)\u001b[0m\u001b[0;34m\u001b[0m\u001b[0;34m\u001b[0m\u001b[0m",
      "\u001b[0m\u001b[1;32m    535\u001b[0m     \u001b[0;32mdel\u001b[0m \u001b[0m_parser\u001b[0m\u001b[0;34m\u001b[0m\u001b[0;34m\u001b[0m\u001b[0m",
      "\u001b[1;32m    536\u001b[0m     \u001b[0;32mreturn\u001b[0m \u001b[0moutname\u001b[0m\u001b[0;34m\u001b[0m\u001b[0;34m\u001b[0m\u001b[0m",
      "",
      "\u001b[0;31mValueError\u001b[0m: cannot write to index file (stream error)",
      ""
     ]
    },
    {
     "data": {
      "text/plain": [
       "[<pandas.core.groupby.generic.DataFrameGroupBy object at 0x2b8c0d92cc10>,\n",
       " <pandas.core.groupby.generic.DataFrameGroupBy object at 0x2b8c0e005cd0>,\n",
       " <pandas.core.groupby.generic.DataFrameGroupBy object at 0x2b8c0d92c3d0>,\n",
       " <pandas.core.groupby.generic.DataFrameGroupBy object at 0x2b8c0d92c7d0>,\n",
       " <pandas.core.groupby.generic.DataFrameGroupBy object at 0x2b8c0d92c510>]"
      ]
     },
     "execution_count": 36,
     "metadata": {},
     "output_type": "execute_result"
    }
   ],
   "source": [
    "#test vcf creation and calling within parallel \n",
    "def parallel_toy(i):\n",
    "    vcf=importer(files[i-1])\n",
    "    genes=bed[bed['chrom']==i]['name'].unique() #filter gene list \n",
    "    bed_g=bed.groupby(['name'])\n",
    "    return bed_g\n",
    "\n",
    "mydict=dict(files=files, bed=bed, importer=importer)\n",
    "dview.push(mydict)\n",
    "\n",
    "#%time [parallel_toy(i) for i in range(1,6)]\n",
    "\n",
    "%time samples=dview.map_sync(parallel_toy, range(1,6))"
   ]
  },
  {
   "cell_type": "code",
   "execution_count": 38,
   "id": "e3e8a501",
   "metadata": {},
   "outputs": [
    {
     "data": {
      "text/plain": [
       "[             D     Pi_raw  cds_length       gene   lseff\n",
       " 0    -1.389381   0.322726      1284.0  AT1G01010   560.0\n",
       " 1    -0.139948      1.254       729.0  AT1G01020   359.0\n",
       " 2    -0.498963   0.567139      1076.0  AT1G01030   537.0\n",
       " 3    -1.626366    2.32775      5710.0  AT1G01040  2835.0\n",
       " 4    -0.909431  0.0366909       631.0  AT1G01050   307.0\n",
       " ...        ...        ...         ...        ...     ...\n",
       " 7138 -1.518713   0.460817      1189.0  AT1G80950   588.0\n",
       " 7139 -1.194592     5.9803      1455.0  AT1G80960   723.0\n",
       " 7140  0.414213   0.857143       643.0  AT1G80970   319.0\n",
       " 7141       NaN          0       641.0  AT1G80980   247.0\n",
       " 7142  1.053901    5.92291       688.0  AT1G80990   341.0\n",
       " \n",
       " [7143 rows x 5 columns],\n",
       "              D    Pi_raw  cds_length       gene   lseff\n",
       " 0          NaN         0       537.0  AT2G01008    71.0\n",
       " 1          NaN      None       101.0  AT2G01021     0.0\n",
       " 2          NaN         0       119.0  AT2G01023     7.0\n",
       " 3          NaN         0       543.0  AT2G01035   137.0\n",
       " 4          NaN         0       543.0  AT2G01045   154.0\n",
       " ...        ...       ...         ...        ...     ...\n",
       " 4308       NaN         0       225.0  AT2G48121   109.0\n",
       " 4309  0.307677  0.459265       549.0  AT2G48130   271.0\n",
       " 4310 -1.117202  0.211503       599.0  AT2G48140   296.0\n",
       " 4311 -1.082097  0.108814       507.0  AT2G48150   246.0\n",
       " 4312 -1.882401   1.72576      4090.0  AT2G48160  2035.0\n",
       " \n",
       " [4313 rows x 5 columns],\n",
       "              D    Pi_raw  cds_length       gene  lseff\n",
       " 0    -0.680636  0.497775       476.0  AT3G01010  238.0\n",
       " 1          NaN      None      1459.0  AT3G01015    0.0\n",
       " 2    -0.562249  0.238725       489.0  AT3G01020  233.0\n",
       " 3     1.965981   3.69245      1115.0  AT3G01030  556.0\n",
       " 4    -0.240968    1.0159      1493.0  AT3G01040  741.0\n",
       " ...        ...       ...         ...        ...    ...\n",
       " 5447 -0.805258  0.181781       431.0  AT3G63540  203.0\n",
       " 5448       NaN      None      2989.0  AT3G66652    0.0\n",
       " 5449       NaN      None       704.0  AT3G66654    0.0\n",
       " 5450       NaN      None       536.0  AT3G66656    0.0\n",
       " 5451       NaN      None      1651.0  AT3G66658    0.0\n",
       " \n",
       " [5452 rows x 5 columns],\n",
       "              D     Pi_raw  cds_length       gene   lseff\n",
       " 0    -0.481594    2.25353       356.0  AT4G00005   177.0\n",
       " 1    -0.205758    2.12107      3436.0  AT4G00020  1690.0\n",
       " 2    -0.291383   0.818015       802.0  AT4G00026   393.0\n",
       " 3    -0.665219   0.653718       636.0  AT4G00030   315.0\n",
       " 4    -0.837565    1.13706      1156.0  AT4G00040   571.0\n",
       " ...        ...        ...         ...        ...     ...\n",
       " 4173 -0.909449  0.0373765       248.0  AT4G40063   122.0\n",
       " 4174 -1.632803   0.775224       971.0  AT4G40070   483.0\n",
       " 4175 -1.059504   0.852223      1096.0  AT4G40080   545.0\n",
       " 4176 -0.708199  0.0719972       419.0  AT4G40090   209.0\n",
       " 4177 -1.641075    2.80595       674.0  AT4G40100   331.0\n",
       " \n",
       " [4178 rows x 5 columns],\n",
       "              D    Pi_raw  cds_length       gene   lseff\n",
       " 0    -1.430350  0.111444      1302.0  AT5G01010   638.0\n",
       " 1    -1.404916  0.215992       313.0  AT5G01015   156.0\n",
       " 2          NaN      None       254.0  AT5G01017     0.0\n",
       " 3    -0.820663  0.175147      1228.0  AT5G01020   608.0\n",
       " 4    -1.521535    1.7868      2233.0  AT5G01030  1115.0\n",
       " ...        ...       ...         ...        ...     ...\n",
       " 4612  0.332962   2.99206      1484.0  AT5G51690   738.0\n",
       " 4613  0.700678   1.73508       675.0  AT5G51700   331.0\n",
       " 4614 -0.634555  0.815403      1687.0  AT5G51710   824.0\n",
       " 4615 -0.973295  0.383915       325.0  AT5G51720   160.0\n",
       " 4616 -0.145148   5.49623       945.0  AT5G51730   462.0\n",
       " \n",
       " [4617 rows x 5 columns]]"
      ]
     },
     "execution_count": 38,
     "metadata": {},
     "output_type": "execute_result"
    }
   ],
   "source": [
    "#this chunk runs the calculation, takes forever!!\n",
    "mydict=dict(bed=bed, files=files, combine_cds=combine_cds, exon_search=exon_search, importer=importer)\n",
    "dview.push(mydict)\n",
    "res=dview.map(wrapper, range(1,6))\n",
    "res"
   ]
  },
  {
   "cell_type": "code",
   "execution_count": 42,
   "id": "bdf0a2f1",
   "metadata": {},
   "outputs": [],
   "source": [
    "#concatenate dataframes and save the result \n",
    "stats=pd.concat(res)\n",
    "stats['Pi_by_dna']=stats['Pi_raw']/stats['cds_length']\n",
    "stats['Pi_by_lseff']=stats['Pi_raw']/stats['lseff']\n",
    "stats.to_csv('/global/scratch/users/chandlersutherland/e14/popgen/vcf_1001_full/cds_egglib_all.csv')"
   ]
  },
  {
   "cell_type": "code",
   "execution_count": 48,
   "id": "764c34b9",
   "metadata": {},
   "outputs": [
    {
     "name": "stdout",
     "output_type": "stream",
     "text": [
      "mean Pi/DNA:  0.0022934434169447028\n",
      "median Pi/DNA:  0.001525417374090504\n"
     ]
    },
    {
     "data": {
      "image/png": "[encoded data removed]",
      "text/plain": [
       "<Figure size 432x288 with 1 Axes>"
      ]
     },
     "metadata": {
      "needs_background": "light"
     },
     "output_type": "display_data"
    }
   ],
   "source": [
    "#start with Pi by DNA  \n",
    "\n",
    "mean=stats['Pi_by_dna'].mean()\n",
    "print('mean Pi/DNA: ', mean)\n",
    "median=stats['Pi_by_dna'].median()\n",
    "print('median Pi/DNA: ', median)\n",
    "\n",
    "\n",
    "plt.hist(stats['Pi_by_dna'], color='blue')\n",
    "plt.axvline(mean, color='lightblue', linestyle='dashed', linewidth=1)\n",
    "plt.axvline(median, color='darkblue', linestyle='dashed', linewidth=1)\n",
    "plt.xlabel(\"Pi/DNA\")\n",
    "\n",
    "plt.show()"
   ]
  },
  {
   "cell_type": "code",
   "execution_count": 49,
   "id": "4eb0950e",
   "metadata": {},
   "outputs": [
    {
     "name": "stdout",
     "output_type": "stream",
     "text": [
      "mean Pi/lseff:  0.004679325246708553\n",
      "median Pi/lseff:  0.0031119206921165956\n"
     ]
    },
    {
     "data": {
      "image/png": "[encoded data removed]",
      "text/plain": [
       "<Figure size 432x288 with 1 Axes>"
      ]
     },
     "metadata": {
      "needs_background": "light"
     },
     "output_type": "display_data"
    }
   ],
   "source": [
    "#start with Pi by lseff  \n",
    "\n",
    "mean=stats['Pi_by_lseff'].mean()\n",
    "print('mean Pi/lseff: ', mean)\n",
    "median=stats['Pi_by_lseff'].median()\n",
    "print('median Pi/lseff: ', median)\n",
    "\n",
    "\n",
    "plt.hist(stats['Pi_by_lseff'], color='blue')\n",
    "plt.axvline(mean, color='lightblue', linestyle='dashed', linewidth=1)\n",
    "plt.axvline(median, color='darkblue', linestyle='dashed', linewidth=1)\n",
    "plt.xlabel(\"Pi/lseff\")\n",
    "\n",
    "plt.show()"
   ]
  },
  {
   "cell_type": "markdown",
   "id": "14f1a437",
   "metadata": {},
   "source": [
    "Let's compare with previous stats on the same inputs computed with just the variants present in the VCF file. "
   ]
  },
  {
   "cell_type": "code",
   "execution_count": 50,
   "id": "a8389d1b",
   "metadata": {},
   "outputs": [
    {
     "data": {
      "text/html": [
       "<div>\n",
       "<style scoped>\n",
       "    .dataframe tbody tr th:only-of-type {\n",
       "        vertical-align: middle;\n",
       "    }\n",
       "\n",
       "    .dataframe tbody tr th {\n",
       "        vertical-align: top;\n",
       "    }\n",
       "\n",
       "    .dataframe thead th {\n",
       "        text-align: right;\n",
       "    }\n",
       "</style>\n",
       "<table border=\"1\" class=\"dataframe\">\n",
       "  <thead>\n",
       "    <tr style=\"text-align: right;\">\n",
       "      <th></th>\n",
       "      <th>D</th>\n",
       "      <th>Pi_raw</th>\n",
       "      <th>cds_length</th>\n",
       "      <th>gene</th>\n",
       "      <th>lseff</th>\n",
       "      <th>Pi_by_dna</th>\n",
       "      <th>Pi_by_lseff</th>\n",
       "    </tr>\n",
       "  </thead>\n",
       "  <tbody>\n",
       "    <tr>\n",
       "      <td>0</td>\n",
       "      <td>0.034758</td>\n",
       "      <td>0.196163</td>\n",
       "      <td>1284.0</td>\n",
       "      <td>AT1G01010</td>\n",
       "      <td>11.0</td>\n",
       "      <td>0.000153</td>\n",
       "      <td>0.017833</td>\n",
       "    </tr>\n",
       "    <tr>\n",
       "      <td>1</td>\n",
       "      <td>-0.204950</td>\n",
       "      <td>0.684199</td>\n",
       "      <td>729.0</td>\n",
       "      <td>AT1G01020</td>\n",
       "      <td>7.0</td>\n",
       "      <td>0.000939</td>\n",
       "      <td>0.097743</td>\n",
       "    </tr>\n",
       "    <tr>\n",
       "      <td>2</td>\n",
       "      <td>-0.821854</td>\n",
       "      <td>0.442834</td>\n",
       "      <td>1076.0</td>\n",
       "      <td>AT1G01030</td>\n",
       "      <td>13.0</td>\n",
       "      <td>0.000412</td>\n",
       "      <td>0.034064</td>\n",
       "    </tr>\n",
       "    <tr>\n",
       "      <td>3</td>\n",
       "      <td>-1.801743</td>\n",
       "      <td>1.767348</td>\n",
       "      <td>5710.0</td>\n",
       "      <td>AT1G01040</td>\n",
       "      <td>64.0</td>\n",
       "      <td>0.000310</td>\n",
       "      <td>0.027615</td>\n",
       "    </tr>\n",
       "    <tr>\n",
       "      <td>4</td>\n",
       "      <td>NaN</td>\n",
       "      <td>NaN</td>\n",
       "      <td>631.0</td>\n",
       "      <td>AT1G01050</td>\n",
       "      <td>0.0</td>\n",
       "      <td>NaN</td>\n",
       "      <td>NaN</td>\n",
       "    </tr>\n",
       "    <tr>\n",
       "      <td>...</td>\n",
       "      <td>...</td>\n",
       "      <td>...</td>\n",
       "      <td>...</td>\n",
       "      <td>...</td>\n",
       "      <td>...</td>\n",
       "      <td>...</td>\n",
       "      <td>...</td>\n",
       "    </tr>\n",
       "    <tr>\n",
       "      <td>6318</td>\n",
       "      <td>NaN</td>\n",
       "      <td>NaN</td>\n",
       "      <td>246.0</td>\n",
       "      <td>AT5G67600</td>\n",
       "      <td>0.0</td>\n",
       "      <td>NaN</td>\n",
       "      <td>NaN</td>\n",
       "    </tr>\n",
       "    <tr>\n",
       "      <td>6319</td>\n",
       "      <td>0.499195</td>\n",
       "      <td>2.936667</td>\n",
       "      <td>1451.0</td>\n",
       "      <td>AT5G67610</td>\n",
       "      <td>26.0</td>\n",
       "      <td>0.002024</td>\n",
       "      <td>0.112949</td>\n",
       "    </tr>\n",
       "    <tr>\n",
       "      <td>6320</td>\n",
       "      <td>-0.251609</td>\n",
       "      <td>0.489753</td>\n",
       "      <td>546.0</td>\n",
       "      <td>AT5G67620</td>\n",
       "      <td>7.0</td>\n",
       "      <td>0.000897</td>\n",
       "      <td>0.069965</td>\n",
       "    </tr>\n",
       "    <tr>\n",
       "      <td>6321</td>\n",
       "      <td>-0.510494</td>\n",
       "      <td>1.038563</td>\n",
       "      <td>1408.0</td>\n",
       "      <td>AT5G67630</td>\n",
       "      <td>14.0</td>\n",
       "      <td>0.000738</td>\n",
       "      <td>0.074183</td>\n",
       "    </tr>\n",
       "    <tr>\n",
       "      <td>6322</td>\n",
       "      <td>-1.637832</td>\n",
       "      <td>0.578545</td>\n",
       "      <td>602.0</td>\n",
       "      <td>AT5G67640</td>\n",
       "      <td>18.0</td>\n",
       "      <td>0.000961</td>\n",
       "      <td>0.032141</td>\n",
       "    </tr>\n",
       "  </tbody>\n",
       "</table>\n",
       "<p>27409 rows × 7 columns</p>\n",
       "</div>"
      ],
      "text/plain": [
       "             D    Pi_raw  cds_length       gene  lseff  Pi_by_dna  Pi_by_lseff\n",
       "0     0.034758  0.196163      1284.0  AT1G01010   11.0   0.000153     0.017833\n",
       "1    -0.204950  0.684199       729.0  AT1G01020    7.0   0.000939     0.097743\n",
       "2    -0.821854  0.442834      1076.0  AT1G01030   13.0   0.000412     0.034064\n",
       "3    -1.801743  1.767348      5710.0  AT1G01040   64.0   0.000310     0.027615\n",
       "4          NaN       NaN       631.0  AT1G01050    0.0        NaN          NaN\n",
       "...        ...       ...         ...        ...    ...        ...          ...\n",
       "6318       NaN       NaN       246.0  AT5G67600    0.0        NaN          NaN\n",
       "6319  0.499195  2.936667      1451.0  AT5G67610   26.0   0.002024     0.112949\n",
       "6320 -0.251609  0.489753       546.0  AT5G67620    7.0   0.000897     0.069965\n",
       "6321 -0.510494  1.038563      1408.0  AT5G67630   14.0   0.000738     0.074183\n",
       "6322 -1.637832  0.578545       602.0  AT5G67640   18.0   0.000961     0.032141\n",
       "\n",
       "[27409 rows x 7 columns]"
      ]
     },
     "execution_count": 50,
     "metadata": {},
     "output_type": "execute_result"
    }
   ],
   "source": [
    "#read in previous chrom1 stats \n",
    "old=pd.read_csv('/global/scratch/users/chandlersutherland/e14/popgen/vcf_1001/cds_egglib_wholegenome2.csv', index_col=0)\n",
    "old"
   ]
  },
  {
   "cell_type": "code",
   "execution_count": 52,
   "id": "3c472ca7",
   "metadata": {},
   "outputs": [
    {
     "name": "stdout",
     "output_type": "stream",
     "text": [
      "(0.9089318319004329, 0.0)\n"
     ]
    },
    {
     "data": {
      "image/png": "[encoded data removed]",
      "text/plain": [
       "<Figure size 432x288 with 1 Axes>"
      ]
     },
     "metadata": {
      "needs_background": "light"
     },
     "output_type": "display_data"
    }
   ],
   "source": [
    "comp=pd.merge(stats, old, on='gene').dropna()\n",
    "print(pearsonr(comp['Pi_by_dna_x'], comp['Pi_by_dna_y']))\n",
    "\n",
    "plt.scatter(comp['Pi_by_dna_x'], comp['Pi_by_dna_y'])\n",
    "plt.xlabel(\"Pi/dna invar\")\n",
    "plt.ylabel(\"Pi/dna old\")\n",
    "plt.show()"
   ]
  },
  {
   "cell_type": "markdown",
   "id": "1d642eca",
   "metadata": {},
   "source": [
    "Pi/DNA scales very nicely. Glad I chose this originally but now let's see if I can switch back to Pi/site."
   ]
  },
  {
   "cell_type": "code",
   "execution_count": 53,
   "id": "937f8cc1",
   "metadata": {},
   "outputs": [
    {
     "name": "stdout",
     "output_type": "stream",
     "text": [
      "(0.5807978372577232, 0.0)\n"
     ]
    },
    {
     "data": {
      "image/png": "[encoded data removed]",
      "text/plain": [
       "<Figure size 432x288 with 1 Axes>"
      ]
     },
     "metadata": {
      "needs_background": "light"
     },
     "output_type": "display_data"
    }
   ],
   "source": [
    "#comp=pd.merge(chrom1_stats, old, on='gene').dropna()\n",
    "print(pearsonr(comp['Pi_by_lseff_x'], comp['Pi_by_lseff_y']))\n",
    "\n",
    "plt.scatter(comp['Pi_by_lseff_x'], comp['Pi_by_lseff_y'])\n",
    "plt.xlabel(\"Pi/lseff invar chrom1\")\n",
    "plt.ylabel(\"Pi/lseff old chrom1\")\n",
    "plt.show()"
   ]
  },
  {
   "cell_type": "markdown",
   "id": "99827c1d",
   "metadata": {},
   "source": [
    "What we observed before. The Pi/lseff calculated on the variant only VCF is way overestimating values. "
   ]
  },
  {
   "cell_type": "code",
   "execution_count": 54,
   "id": "439f4ccb",
   "metadata": {},
   "outputs": [
    {
     "name": "stdout",
     "output_type": "stream",
     "text": [
      "(0.8295784380857876, 0.0)\n"
     ]
    },
    {
     "data": {
      "image/png": "[encoded data removed]",
      "text/plain": [
       "<Figure size 432x288 with 1 Axes>"
      ]
     },
     "metadata": {
      "needs_background": "light"
     },
     "output_type": "display_data"
    }
   ],
   "source": [
    "#comp=pd.merge(chrom1_stats, old, on='gene').dropna()\n",
    "print(pearsonr(comp['D_x'], comp['D_y']))\n",
    "\n",
    "plt.scatter(comp['D_x'], comp['D_y'])\n",
    "plt.xlabel(\"D invar chrom1\")\n",
    "plt.ylabel(\"D old chrom1\")\n",
    "plt.show()"
   ]
  },
  {
   "cell_type": "markdown",
   "id": "d065c974",
   "metadata": {},
   "source": [
    "I would expect D to be a perfect r=1... but pretty good."
   ]
  },
  {
   "cell_type": "code",
   "execution_count": 55,
   "id": "274dfe8d",
   "metadata": {},
   "outputs": [
    {
     "name": "stdout",
     "output_type": "stream",
     "text": [
      "(0.9665210825423122, 0.0)\n"
     ]
    },
    {
     "data": {
      "image/png": "[encoded data removed]",
      "text/plain": [
       "<Figure size 432x288 with 1 Axes>"
      ]
     },
     "metadata": {
      "needs_background": "light"
     },
     "output_type": "display_data"
    }
   ],
   "source": [
    "#comp=pd.merge(chrom1_stats, old, on='gene').dropna()\n",
    "print(pearsonr(comp['Pi_raw_x'], comp['Pi_raw_y']))\n",
    "\n",
    "plt.scatter(comp['Pi_raw_x'], comp['Pi_raw_y'])\n",
    "plt.xlabel(\"Pi raw invar chrom1\")\n",
    "plt.ylabel(\"Pi raw old chrom1\")\n",
    "plt.show()"
   ]
  },
  {
   "cell_type": "markdown",
   "id": "5441251e",
   "metadata": {},
   "source": [
    "Pi raw correlation is near perfect. Therefore, the real issue here is the denominator. "
   ]
  }
 ],
 "metadata": {
  "kernelspec": {
   "display_name": "Python 3.7",
   "language": "python",
   "name": "python3"
  },
  "language_info": {
   "codemirror_mode": {
    "name": "ipython",
    "version": 3
   },
   "file_extension": ".py",
   "mimetype": "text/x-python",
   "name": "python",
   "nbconvert_exporter": "python",
   "pygments_lexer": "ipython3",
   "version": "3.7.4"
  }
 },
 "nbformat": 4,
 "nbformat_minor": 5
}
